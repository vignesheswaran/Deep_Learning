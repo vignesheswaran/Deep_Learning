{
  "nbformat": 4,
  "nbformat_minor": 0,
  "metadata": {
    "colab": {
      "name": "Time Series LSTM.ipynb",
      "provenance": []
    },
    "kernelspec": {
      "name": "python3",
      "display_name": "Python 3"
    }
  },
  "cells": [
    {
      "cell_type": "code",
      "metadata": {
        "id": "FijrIBUUzTjK"
      },
      "source": [
        "#importing libraries \n",
        "\n",
        "import numpy as np\n",
        "import pandas as pd\n",
        "import matplotlib\n",
        "import matplotlib.pyplot as plt\n",
        "%matplotlib inline\n",
        "from tensorflow.keras.models import Sequential\n",
        "from tensorflow.keras.layers import LSTM\n",
        "from tensorflow.keras.layers import Dense\n",
        "from tensorflow.keras.layers import Flatten"
      ],
      "execution_count": 217,
      "outputs": []
    },
    {
      "cell_type": "code",
      "metadata": {
        "id": "mWmEL-s4T1pA",
        "outputId": "ea47f134-da0a-4eb4-d1f3-626d05ad403a",
        "colab": {
          "resources": {
            "http://localhost:8080/nbextensions/google.colab/files.js": {
              "data": "Ly8gQ29weXJpZ2h0IDIwMTcgR29vZ2xlIExMQwovLwovLyBMaWNlbnNlZCB1bmRlciB0aGUgQXBhY2hlIExpY2Vuc2UsIFZlcnNpb24gMi4wICh0aGUgIkxpY2Vuc2UiKTsKLy8geW91IG1heSBub3QgdXNlIHRoaXMgZmlsZSBleGNlcHQgaW4gY29tcGxpYW5jZSB3aXRoIHRoZSBMaWNlbnNlLgovLyBZb3UgbWF5IG9idGFpbiBhIGNvcHkgb2YgdGhlIExpY2Vuc2UgYXQKLy8KLy8gICAgICBodHRwOi8vd3d3LmFwYWNoZS5vcmcvbGljZW5zZXMvTElDRU5TRS0yLjAKLy8KLy8gVW5sZXNzIHJlcXVpcmVkIGJ5IGFwcGxpY2FibGUgbGF3IG9yIGFncmVlZCB0byBpbiB3cml0aW5nLCBzb2Z0d2FyZQovLyBkaXN0cmlidXRlZCB1bmRlciB0aGUgTGljZW5zZSBpcyBkaXN0cmlidXRlZCBvbiBhbiAiQVMgSVMiIEJBU0lTLAovLyBXSVRIT1VUIFdBUlJBTlRJRVMgT1IgQ09ORElUSU9OUyBPRiBBTlkgS0lORCwgZWl0aGVyIGV4cHJlc3Mgb3IgaW1wbGllZC4KLy8gU2VlIHRoZSBMaWNlbnNlIGZvciB0aGUgc3BlY2lmaWMgbGFuZ3VhZ2UgZ292ZXJuaW5nIHBlcm1pc3Npb25zIGFuZAovLyBsaW1pdGF0aW9ucyB1bmRlciB0aGUgTGljZW5zZS4KCi8qKgogKiBAZmlsZW92ZXJ2aWV3IEhlbHBlcnMgZm9yIGdvb2dsZS5jb2xhYiBQeXRob24gbW9kdWxlLgogKi8KKGZ1bmN0aW9uKHNjb3BlKSB7CmZ1bmN0aW9uIHNwYW4odGV4dCwgc3R5bGVBdHRyaWJ1dGVzID0ge30pIHsKICBjb25zdCBlbGVtZW50ID0gZG9jdW1lbnQuY3JlYXRlRWxlbWVudCgnc3BhbicpOwogIGVsZW1lbnQudGV4dENvbnRlbnQgPSB0ZXh0OwogIGZvciAoY29uc3Qga2V5IG9mIE9iamVjdC5rZXlzKHN0eWxlQXR0cmlidXRlcykpIHsKICAgIGVsZW1lbnQuc3R5bGVba2V5XSA9IHN0eWxlQXR0cmlidXRlc1trZXldOwogIH0KICByZXR1cm4gZWxlbWVudDsKfQoKLy8gTWF4IG51bWJlciBvZiBieXRlcyB3aGljaCB3aWxsIGJlIHVwbG9hZGVkIGF0IGEgdGltZS4KY29uc3QgTUFYX1BBWUxPQURfU0laRSA9IDEwMCAqIDEwMjQ7CgpmdW5jdGlvbiBfdXBsb2FkRmlsZXMoaW5wdXRJZCwgb3V0cHV0SWQpIHsKICBjb25zdCBzdGVwcyA9IHVwbG9hZEZpbGVzU3RlcChpbnB1dElkLCBvdXRwdXRJZCk7CiAgY29uc3Qgb3V0cHV0RWxlbWVudCA9IGRvY3VtZW50LmdldEVsZW1lbnRCeUlkKG91dHB1dElkKTsKICAvLyBDYWNoZSBzdGVwcyBvbiB0aGUgb3V0cHV0RWxlbWVudCB0byBtYWtlIGl0IGF2YWlsYWJsZSBmb3IgdGhlIG5leHQgY2FsbAogIC8vIHRvIHVwbG9hZEZpbGVzQ29udGludWUgZnJvbSBQeXRob24uCiAgb3V0cHV0RWxlbWVudC5zdGVwcyA9IHN0ZXBzOwoKICByZXR1cm4gX3VwbG9hZEZpbGVzQ29udGludWUob3V0cHV0SWQpOwp9CgovLyBUaGlzIGlzIHJvdWdobHkgYW4gYXN5bmMgZ2VuZXJhdG9yIChub3Qgc3VwcG9ydGVkIGluIHRoZSBicm93c2VyIHlldCksCi8vIHdoZXJlIHRoZXJlIGFyZSBtdWx0aXBsZSBhc3luY2hyb25vdXMgc3RlcHMgYW5kIHRoZSBQeXRob24gc2lkZSBpcyBnb2luZwovLyB0byBwb2xsIGZvciBjb21wbGV0aW9uIG9mIGVhY2ggc3RlcC4KLy8gVGhpcyB1c2VzIGEgUHJvbWlzZSB0byBibG9jayB0aGUgcHl0aG9uIHNpZGUgb24gY29tcGxldGlvbiBvZiBlYWNoIHN0ZXAsCi8vIHRoZW4gcGFzc2VzIHRoZSByZXN1bHQgb2YgdGhlIHByZXZpb3VzIHN0ZXAgYXMgdGhlIGlucHV0IHRvIHRoZSBuZXh0IHN0ZXAuCmZ1bmN0aW9uIF91cGxvYWRGaWxlc0NvbnRpbnVlKG91dHB1dElkKSB7CiAgY29uc3Qgb3V0cHV0RWxlbWVudCA9IGRvY3VtZW50LmdldEVsZW1lbnRCeUlkKG91dHB1dElkKTsKICBjb25zdCBzdGVwcyA9IG91dHB1dEVsZW1lbnQuc3RlcHM7CgogIGNvbnN0IG5leHQgPSBzdGVwcy5uZXh0KG91dHB1dEVsZW1lbnQubGFzdFByb21pc2VWYWx1ZSk7CiAgcmV0dXJuIFByb21pc2UucmVzb2x2ZShuZXh0LnZhbHVlLnByb21pc2UpLnRoZW4oKHZhbHVlKSA9PiB7CiAgICAvLyBDYWNoZSB0aGUgbGFzdCBwcm9taXNlIHZhbHVlIHRvIG1ha2UgaXQgYXZhaWxhYmxlIHRvIHRoZSBuZXh0CiAgICAvLyBzdGVwIG9mIHRoZSBnZW5lcmF0b3IuCiAgICBvdXRwdXRFbGVtZW50Lmxhc3RQcm9taXNlVmFsdWUgPSB2YWx1ZTsKICAgIHJldHVybiBuZXh0LnZhbHVlLnJlc3BvbnNlOwogIH0pOwp9CgovKioKICogR2VuZXJhdG9yIGZ1bmN0aW9uIHdoaWNoIGlzIGNhbGxlZCBiZXR3ZWVuIGVhY2ggYXN5bmMgc3RlcCBvZiB0aGUgdXBsb2FkCiAqIHByb2Nlc3MuCiAqIEBwYXJhbSB7c3RyaW5nfSBpbnB1dElkIEVsZW1lbnQgSUQgb2YgdGhlIGlucHV0IGZpbGUgcGlja2VyIGVsZW1lbnQuCiAqIEBwYXJhbSB7c3RyaW5nfSBvdXRwdXRJZCBFbGVtZW50IElEIG9mIHRoZSBvdXRwdXQgZGlzcGxheS4KICogQHJldHVybiB7IUl0ZXJhYmxlPCFPYmplY3Q+fSBJdGVyYWJsZSBvZiBuZXh0IHN0ZXBzLgogKi8KZnVuY3Rpb24qIHVwbG9hZEZpbGVzU3RlcChpbnB1dElkLCBvdXRwdXRJZCkgewogIGNvbnN0IGlucHV0RWxlbWVudCA9IGRvY3VtZW50LmdldEVsZW1lbnRCeUlkKGlucHV0SWQpOwogIGlucHV0RWxlbWVudC5kaXNhYmxlZCA9IGZhbHNlOwoKICBjb25zdCBvdXRwdXRFbGVtZW50ID0gZG9jdW1lbnQuZ2V0RWxlbWVudEJ5SWQob3V0cHV0SWQpOwogIG91dHB1dEVsZW1lbnQuaW5uZXJIVE1MID0gJyc7CgogIGNvbnN0IHBpY2tlZFByb21pc2UgPSBuZXcgUHJvbWlzZSgocmVzb2x2ZSkgPT4gewogICAgaW5wdXRFbGVtZW50LmFkZEV2ZW50TGlzdGVuZXIoJ2NoYW5nZScsIChlKSA9PiB7CiAgICAgIHJlc29sdmUoZS50YXJnZXQuZmlsZXMpOwogICAgfSk7CiAgfSk7CgogIGNvbnN0IGNhbmNlbCA9IGRvY3VtZW50LmNyZWF0ZUVsZW1lbnQoJ2J1dHRvbicpOwogIGlucHV0RWxlbWVudC5wYXJlbnRFbGVtZW50LmFwcGVuZENoaWxkKGNhbmNlbCk7CiAgY2FuY2VsLnRleHRDb250ZW50ID0gJ0NhbmNlbCB1cGxvYWQnOwogIGNvbnN0IGNhbmNlbFByb21pc2UgPSBuZXcgUHJvbWlzZSgocmVzb2x2ZSkgPT4gewogICAgY2FuY2VsLm9uY2xpY2sgPSAoKSA9PiB7CiAgICAgIHJlc29sdmUobnVsbCk7CiAgICB9OwogIH0pOwoKICAvLyBXYWl0IGZvciB0aGUgdXNlciB0byBwaWNrIHRoZSBmaWxlcy4KICBjb25zdCBmaWxlcyA9IHlpZWxkIHsKICAgIHByb21pc2U6IFByb21pc2UucmFjZShbcGlja2VkUHJvbWlzZSwgY2FuY2VsUHJvbWlzZV0pLAogICAgcmVzcG9uc2U6IHsKICAgICAgYWN0aW9uOiAnc3RhcnRpbmcnLAogICAgfQogIH07CgogIGNhbmNlbC5yZW1vdmUoKTsKCiAgLy8gRGlzYWJsZSB0aGUgaW5wdXQgZWxlbWVudCBzaW5jZSBmdXJ0aGVyIHBpY2tzIGFyZSBub3QgYWxsb3dlZC4KICBpbnB1dEVsZW1lbnQuZGlzYWJsZWQgPSB0cnVlOwoKICBpZiAoIWZpbGVzKSB7CiAgICByZXR1cm4gewogICAgICByZXNwb25zZTogewogICAgICAgIGFjdGlvbjogJ2NvbXBsZXRlJywKICAgICAgfQogICAgfTsKICB9CgogIGZvciAoY29uc3QgZmlsZSBvZiBmaWxlcykgewogICAgY29uc3QgbGkgPSBkb2N1bWVudC5jcmVhdGVFbGVtZW50KCdsaScpOwogICAgbGkuYXBwZW5kKHNwYW4oZmlsZS5uYW1lLCB7Zm9udFdlaWdodDogJ2JvbGQnfSkpOwogICAgbGkuYXBwZW5kKHNwYW4oCiAgICAgICAgYCgke2ZpbGUudHlwZSB8fCAnbi9hJ30pIC0gJHtmaWxlLnNpemV9IGJ5dGVzLCBgICsKICAgICAgICBgbGFzdCBtb2RpZmllZDogJHsKICAgICAgICAgICAgZmlsZS5sYXN0TW9kaWZpZWREYXRlID8gZmlsZS5sYXN0TW9kaWZpZWREYXRlLnRvTG9jYWxlRGF0ZVN0cmluZygpIDoKICAgICAgICAgICAgICAgICAgICAgICAgICAgICAgICAgICAgJ24vYSd9IC0gYCkpOwogICAgY29uc3QgcGVyY2VudCA9IHNwYW4oJzAlIGRvbmUnKTsKICAgIGxpLmFwcGVuZENoaWxkKHBlcmNlbnQpOwoKICAgIG91dHB1dEVsZW1lbnQuYXBwZW5kQ2hpbGQobGkpOwoKICAgIGNvbnN0IGZpbGVEYXRhUHJvbWlzZSA9IG5ldyBQcm9taXNlKChyZXNvbHZlKSA9PiB7CiAgICAgIGNvbnN0IHJlYWRlciA9IG5ldyBGaWxlUmVhZGVyKCk7CiAgICAgIHJlYWRlci5vbmxvYWQgPSAoZSkgPT4gewogICAgICAgIHJlc29sdmUoZS50YXJnZXQucmVzdWx0KTsKICAgICAgfTsKICAgICAgcmVhZGVyLnJlYWRBc0FycmF5QnVmZmVyKGZpbGUpOwogICAgfSk7CiAgICAvLyBXYWl0IGZvciB0aGUgZGF0YSB0byBiZSByZWFkeS4KICAgIGxldCBmaWxlRGF0YSA9IHlpZWxkIHsKICAgICAgcHJvbWlzZTogZmlsZURhdGFQcm9taXNlLAogICAgICByZXNwb25zZTogewogICAgICAgIGFjdGlvbjogJ2NvbnRpbnVlJywKICAgICAgfQogICAgfTsKCiAgICAvLyBVc2UgYSBjaHVua2VkIHNlbmRpbmcgdG8gYXZvaWQgbWVzc2FnZSBzaXplIGxpbWl0cy4gU2VlIGIvNjIxMTU2NjAuCiAgICBsZXQgcG9zaXRpb24gPSAwOwogICAgd2hpbGUgKHBvc2l0aW9uIDwgZmlsZURhdGEuYnl0ZUxlbmd0aCkgewogICAgICBjb25zdCBsZW5ndGggPSBNYXRoLm1pbihmaWxlRGF0YS5ieXRlTGVuZ3RoIC0gcG9zaXRpb24sIE1BWF9QQVlMT0FEX1NJWkUpOwogICAgICBjb25zdCBjaHVuayA9IG5ldyBVaW50OEFycmF5KGZpbGVEYXRhLCBwb3NpdGlvbiwgbGVuZ3RoKTsKICAgICAgcG9zaXRpb24gKz0gbGVuZ3RoOwoKICAgICAgY29uc3QgYmFzZTY0ID0gYnRvYShTdHJpbmcuZnJvbUNoYXJDb2RlLmFwcGx5KG51bGwsIGNodW5rKSk7CiAgICAgIHlpZWxkIHsKICAgICAgICByZXNwb25zZTogewogICAgICAgICAgYWN0aW9uOiAnYXBwZW5kJywKICAgICAgICAgIGZpbGU6IGZpbGUubmFtZSwKICAgICAgICAgIGRhdGE6IGJhc2U2NCwKICAgICAgICB9LAogICAgICB9OwogICAgICBwZXJjZW50LnRleHRDb250ZW50ID0KICAgICAgICAgIGAke01hdGgucm91bmQoKHBvc2l0aW9uIC8gZmlsZURhdGEuYnl0ZUxlbmd0aCkgKiAxMDApfSUgZG9uZWA7CiAgICB9CiAgfQoKICAvLyBBbGwgZG9uZS4KICB5aWVsZCB7CiAgICByZXNwb25zZTogewogICAgICBhY3Rpb246ICdjb21wbGV0ZScsCiAgICB9CiAgfTsKfQoKc2NvcGUuZ29vZ2xlID0gc2NvcGUuZ29vZ2xlIHx8IHt9OwpzY29wZS5nb29nbGUuY29sYWIgPSBzY29wZS5nb29nbGUuY29sYWIgfHwge307CnNjb3BlLmdvb2dsZS5jb2xhYi5fZmlsZXMgPSB7CiAgX3VwbG9hZEZpbGVzLAogIF91cGxvYWRGaWxlc0NvbnRpbnVlLAp9Owp9KShzZWxmKTsK",
              "ok": true,
              "headers": [
                [
                  "content-type",
                  "application/javascript"
                ]
              ],
              "status": 200,
              "status_text": ""
            }
          },
          "base_uri": "https://localhost:8080/",
          "height": 73
        }
      },
      "source": [
        "from google.colab import files\n",
        "uploaded=files.upload()"
      ],
      "execution_count": 218,
      "outputs": [
        {
          "output_type": "display_data",
          "data": {
            "text/html": [
              "\n",
              "     <input type=\"file\" id=\"files-92fae788-b0e3-4c62-9a40-000fd3e92888\" name=\"files[]\" multiple disabled\n",
              "        style=\"border:none\" />\n",
              "     <output id=\"result-92fae788-b0e3-4c62-9a40-000fd3e92888\">\n",
              "      Upload widget is only available when the cell has been executed in the\n",
              "      current browser session. Please rerun this cell to enable.\n",
              "      </output>\n",
              "      <script src=\"/nbextensions/google.colab/files.js\"></script> "
            ],
            "text/plain": [
              "<IPython.core.display.HTML object>"
            ]
          },
          "metadata": {
            "tags": []
          }
        },
        {
          "output_type": "stream",
          "text": [
            "Saving Electric_Production.csv to Electric_Production (1).csv\n"
          ],
          "name": "stdout"
        }
      ]
    },
    {
      "cell_type": "code",
      "metadata": {
        "id": "PgDTf-U3ULkW",
        "outputId": "83313359-96c4-4323-b8d2-7f25d445cd91",
        "colab": {
          "base_uri": "https://localhost:8080/",
          "height": 195
        }
      },
      "source": [
        "#importing dataset\n",
        "\n",
        "import io\n",
        "df = pd.read_csv(io.BytesIO(uploaded['Electric_Production.csv']))\n",
        "time_steps=5\n",
        "\n",
        "df.head()"
      ],
      "execution_count": 219,
      "outputs": [
        {
          "output_type": "execute_result",
          "data": {
            "text/html": [
              "<div>\n",
              "<style scoped>\n",
              "    .dataframe tbody tr th:only-of-type {\n",
              "        vertical-align: middle;\n",
              "    }\n",
              "\n",
              "    .dataframe tbody tr th {\n",
              "        vertical-align: top;\n",
              "    }\n",
              "\n",
              "    .dataframe thead th {\n",
              "        text-align: right;\n",
              "    }\n",
              "</style>\n",
              "<table border=\"1\" class=\"dataframe\">\n",
              "  <thead>\n",
              "    <tr style=\"text-align: right;\">\n",
              "      <th></th>\n",
              "      <th>DATE</th>\n",
              "      <th>IPG2211A2N</th>\n",
              "    </tr>\n",
              "  </thead>\n",
              "  <tbody>\n",
              "    <tr>\n",
              "      <th>0</th>\n",
              "      <td>1/1/1985</td>\n",
              "      <td>72.5052</td>\n",
              "    </tr>\n",
              "    <tr>\n",
              "      <th>1</th>\n",
              "      <td>2/1/1985</td>\n",
              "      <td>70.6720</td>\n",
              "    </tr>\n",
              "    <tr>\n",
              "      <th>2</th>\n",
              "      <td>3/1/1985</td>\n",
              "      <td>62.4502</td>\n",
              "    </tr>\n",
              "    <tr>\n",
              "      <th>3</th>\n",
              "      <td>4/1/1985</td>\n",
              "      <td>57.4714</td>\n",
              "    </tr>\n",
              "    <tr>\n",
              "      <th>4</th>\n",
              "      <td>5/1/1985</td>\n",
              "      <td>55.3151</td>\n",
              "    </tr>\n",
              "  </tbody>\n",
              "</table>\n",
              "</div>"
            ],
            "text/plain": [
              "       DATE  IPG2211A2N\n",
              "0  1/1/1985     72.5052\n",
              "1  2/1/1985     70.6720\n",
              "2  3/1/1985     62.4502\n",
              "3  4/1/1985     57.4714\n",
              "4  5/1/1985     55.3151"
            ]
          },
          "metadata": {
            "tags": []
          },
          "execution_count": 219
        }
      ]
    },
    {
      "cell_type": "code",
      "metadata": {
        "id": "9L8hKL2oU1pf"
      },
      "source": [
        "df=list(df['IPG2211A2N'])"
      ],
      "execution_count": 220,
      "outputs": []
    },
    {
      "cell_type": "code",
      "metadata": {
        "id": "BRZLs902U73S",
        "outputId": "ea0e0bbb-1373-495f-b8a8-50edab2b8e03",
        "colab": {
          "base_uri": "https://localhost:8080/"
        }
      },
      "source": [
        "df"
      ],
      "execution_count": 222,
      "outputs": [
        {
          "output_type": "execute_result",
          "data": {
            "text/plain": [
              "[72.5052,\n",
              " 70.672,\n",
              " 62.4502,\n",
              " 57.4714,\n",
              " 55.3151,\n",
              " 58.0904,\n",
              " 62.6202,\n",
              " 63.2485,\n",
              " 60.5846,\n",
              " 56.3154,\n",
              " 58.0005,\n",
              " 68.7145,\n",
              " 73.3057,\n",
              " 67.9869,\n",
              " 62.2221,\n",
              " 57.0329,\n",
              " 55.8137,\n",
              " 59.9005,\n",
              " 65.7655,\n",
              " 64.4816,\n",
              " 61.0005,\n",
              " 57.5322,\n",
              " 59.3417,\n",
              " 68.1354,\n",
              " 73.8152,\n",
              " 70.062,\n",
              " 65.61,\n",
              " 60.1586,\n",
              " 58.8734,\n",
              " 63.8918,\n",
              " 68.8694,\n",
              " 70.0669,\n",
              " 64.1151,\n",
              " 60.3789,\n",
              " 62.4643,\n",
              " 70.5777,\n",
              " 79.8703,\n",
              " 76.1622,\n",
              " 70.2928,\n",
              " 63.2384,\n",
              " 61.4065,\n",
              " 67.1097,\n",
              " 72.9816,\n",
              " 75.7655,\n",
              " 67.5152,\n",
              " 63.2832,\n",
              " 65.1078,\n",
              " 73.8631,\n",
              " 77.9188,\n",
              " 76.6822,\n",
              " 73.3523,\n",
              " 65.1081,\n",
              " 63.6892,\n",
              " 68.4722,\n",
              " 74.0301,\n",
              " 75.0448,\n",
              " 69.3053,\n",
              " 65.8735,\n",
              " 69.0706,\n",
              " 84.1949,\n",
              " 84.3598,\n",
              " 77.1726,\n",
              " 73.1964,\n",
              " 67.2781,\n",
              " 65.8218,\n",
              " 71.4654,\n",
              " 76.61399999999999,\n",
              " 77.1052,\n",
              " 73.061,\n",
              " 67.4365,\n",
              " 68.5665,\n",
              " 77.6839,\n",
              " 86.0214,\n",
              " 77.5573,\n",
              " 73.365,\n",
              " 67.15,\n",
              " 68.8162,\n",
              " 74.8448,\n",
              " 80.0928,\n",
              " 79.1606,\n",
              " 73.5743,\n",
              " 68.7538,\n",
              " 72.5166,\n",
              " 79.4894,\n",
              " 85.2855,\n",
              " 80.1643,\n",
              " 74.5275,\n",
              " 69.6441,\n",
              " 67.1784,\n",
              " 71.2078,\n",
              " 77.5081,\n",
              " 76.5374,\n",
              " 72.3541,\n",
              " 69.0286,\n",
              " 73.4992,\n",
              " 84.5159,\n",
              " 87.9464,\n",
              " 84.5561,\n",
              " 79.4747,\n",
              " 71.0578,\n",
              " 67.6762,\n",
              " 74.3297,\n",
              " 82.1048,\n",
              " 82.0605,\n",
              " 74.6031,\n",
              " 69.681,\n",
              " 74.4292,\n",
              " 84.2284,\n",
              " 94.1386,\n",
              " 87.1607,\n",
              " 79.2456,\n",
              " 70.9749,\n",
              " 69.3844,\n",
              " 77.9831,\n",
              " 83.277,\n",
              " 81.8872,\n",
              " 75.6826,\n",
              " 71.2661,\n",
              " 75.2458,\n",
              " 84.8147,\n",
              " 92.4532,\n",
              " 87.4033,\n",
              " 81.2661,\n",
              " 73.8167,\n",
              " 73.2682,\n",
              " 78.3026,\n",
              " 85.9841,\n",
              " 89.5467,\n",
              " 78.5035,\n",
              " 73.7066,\n",
              " 79.6543,\n",
              " 90.8251,\n",
              " 98.9732,\n",
              " 92.8883,\n",
              " 86.9356,\n",
              " 77.2214,\n",
              " 76.6826,\n",
              " 81.9306,\n",
              " 85.9606,\n",
              " 86.5562,\n",
              " 79.1919,\n",
              " 74.6891,\n",
              " 81.074,\n",
              " 90.4855,\n",
              " 98.4613,\n",
              " 89.7795,\n",
              " 83.0125,\n",
              " 76.1476,\n",
              " 73.8471,\n",
              " 79.7645,\n",
              " 88.4519,\n",
              " 87.7828,\n",
              " 81.9386,\n",
              " 77.5027,\n",
              " 82.0448,\n",
              " 92.101,\n",
              " 94.792,\n",
              " 87.82,\n",
              " 86.5549,\n",
              " 76.7521,\n",
              " 78.0303,\n",
              " 86.4579,\n",
              " 93.8379,\n",
              " 93.531,\n",
              " 87.5414,\n",
              " 80.0924,\n",
              " 81.4349,\n",
              " 91.6841,\n",
              " 102.1348,\n",
              " 91.1829,\n",
              " 90.7381,\n",
              " 80.5176,\n",
              " 79.3887,\n",
              " 87.8431,\n",
              " 97.4903,\n",
              " 96.4157,\n",
              " 87.2248,\n",
              " 80.6409,\n",
              " 82.2025,\n",
              " 94.5113,\n",
              " 102.2301,\n",
              " 94.2989,\n",
              " 88.0927,\n",
              " 81.4425,\n",
              " 84.4552,\n",
              " 91.0406,\n",
              " 95.9957,\n",
              " 99.3704,\n",
              " 90.9178,\n",
              " 83.1408,\n",
              " 88.041,\n",
              " 102.4558,\n",
              " 109.1081,\n",
              " 97.1717,\n",
              " 92.8283,\n",
              " 82.915,\n",
              " 82.5465,\n",
              " 90.3955,\n",
              " 96.074,\n",
              " 99.5534,\n",
              " 88.281,\n",
              " 82.686,\n",
              " 82.9319,\n",
              " 93.0381,\n",
              " 102.9955,\n",
              " 95.2075,\n",
              " 93.2556,\n",
              " 85.795,\n",
              " 85.2351,\n",
              " 93.1896,\n",
              " 102.39299999999999,\n",
              " 101.6293,\n",
              " 93.3089,\n",
              " 86.9002,\n",
              " 88.5749,\n",
              " 100.8003,\n",
              " 110.1807,\n",
              " 103.8413,\n",
              " 94.5532,\n",
              " 85.06200000000001,\n",
              " 85.4653,\n",
              " 91.0761,\n",
              " 102.22,\n",
              " 104.4682,\n",
              " 92.9135,\n",
              " 86.5047,\n",
              " 88.5735,\n",
              " 103.5428,\n",
              " 113.7226,\n",
              " 106.15899999999999,\n",
              " 95.4029,\n",
              " 86.7233,\n",
              " 89.0302,\n",
              " 95.5045,\n",
              " 101.7948,\n",
              " 100.2025,\n",
              " 94.024,\n",
              " 87.5262,\n",
              " 89.6144,\n",
              " 105.7263,\n",
              " 111.1614,\n",
              " 101.7795,\n",
              " 98.9565,\n",
              " 86.4776,\n",
              " 87.2234,\n",
              " 99.5076,\n",
              " 108.3501,\n",
              " 109.4862,\n",
              " 99.1155,\n",
              " 89.7567,\n",
              " 90.4587,\n",
              " 108.2257,\n",
              " 104.4724,\n",
              " 101.5196,\n",
              " 98.4017,\n",
              " 87.5093,\n",
              " 90.0222,\n",
              " 100.5244,\n",
              " 110.9503,\n",
              " 111.5192,\n",
              " 95.7632,\n",
              " 90.3738,\n",
              " 92.3566,\n",
              " 103.066,\n",
              " 112.0576,\n",
              " 111.8399,\n",
              " 99.1925,\n",
              " 90.8177,\n",
              " 92.0587,\n",
              " 100.9676,\n",
              " 107.5686,\n",
              " 114.1036,\n",
              " 101.5316,\n",
              " 93.0068,\n",
              " 93.9126,\n",
              " 106.7528,\n",
              " 114.8331,\n",
              " 108.2353,\n",
              " 100.4386,\n",
              " 90.9944,\n",
              " 91.2348,\n",
              " 103.9581,\n",
              " 110.7631,\n",
              " 107.5665,\n",
              " 97.7183,\n",
              " 90.9979,\n",
              " 93.8057,\n",
              " 109.4221,\n",
              " 116.8316,\n",
              " 104.4202,\n",
              " 97.8529,\n",
              " 88.1973,\n",
              " 87.5366,\n",
              " 97.2387,\n",
              " 103.9086,\n",
              " 105.7486,\n",
              " 94.8823,\n",
              " 89.2977,\n",
              " 89.3585,\n",
              " 110.6844,\n",
              " 119.0166,\n",
              " 110.53299999999999,\n",
              " 98.2672,\n",
              " 86.3,\n",
              " 90.8364,\n",
              " 104.3538,\n",
              " 112.8066,\n",
              " 112.9014,\n",
              " 100.1209,\n",
              " 88.9251,\n",
              " 92.775,\n",
              " 114.3266,\n",
              " 119.488,\n",
              " 107.3753,\n",
              " 99.1028,\n",
              " 89.3583,\n",
              " 90.0698,\n",
              " 102.8204,\n",
              " 114.7068,\n",
              " 113.5958,\n",
              " 99.4712,\n",
              " 90.3566,\n",
              " 93.8095,\n",
              " 107.3312,\n",
              " 111.9646,\n",
              " 103.3679,\n",
              " 93.5772,\n",
              " 87.5566,\n",
              " 92.7603,\n",
              " 101.14,\n",
              " 113.0357,\n",
              " 109.8601,\n",
              " 96.7431,\n",
              " 90.3805,\n",
              " 94.3417,\n",
              " 105.2722,\n",
              " 115.501,\n",
              " 106.734,\n",
              " 102.9948,\n",
              " 91.0092,\n",
              " 90.9634,\n",
              " 100.6957,\n",
              " 110.148,\n",
              " 108.1756,\n",
              " 99.2809,\n",
              " 91.7871,\n",
              " 97.2853,\n",
              " 113.4732,\n",
              " 124.2549,\n",
              " 112.8811,\n",
              " 104.7631,\n",
              " 90.2867,\n",
              " 92.134,\n",
              " 101.87799999999999,\n",
              " 108.5497,\n",
              " 108.194,\n",
              " 100.4172,\n",
              " 92.3837,\n",
              " 99.7033,\n",
              " 109.3477,\n",
              " 120.2696,\n",
              " 116.3788,\n",
              " 104.4706,\n",
              " 89.7461,\n",
              " 91.09299999999999,\n",
              " 102.6495,\n",
              " 111.6354,\n",
              " 110.5925,\n",
              " 101.9204,\n",
              " 91.5959,\n",
              " 93.0628,\n",
              " 103.2203,\n",
              " 117.0837,\n",
              " 106.6688,\n",
              " 95.3548,\n",
              " 89.3254,\n",
              " 90.7369,\n",
              " 104.0375,\n",
              " 114.5397,\n",
              " 115.5159,\n",
              " 102.7637,\n",
              " 91.4867,\n",
              " 92.89,\n",
              " 112.7694,\n",
              " 114.8505,\n",
              " 99.4901,\n",
              " 101.0396,\n",
              " 88.353,\n",
              " 92.0805,\n",
              " 102.1532,\n",
              " 112.1538,\n",
              " 108.9312,\n",
              " 98.6154,\n",
              " 93.6137,\n",
              " 97.3359,\n",
              " 114.7212,\n",
              " 129.4048]"
            ]
          },
          "metadata": {
            "tags": []
          },
          "execution_count": 222
        }
      ]
    },
    {
      "cell_type": "code",
      "metadata": {
        "id": "fTtbOo0ApFe6"
      },
      "source": [
        "#Data Preparation\n",
        "\n",
        "def data_preparation(df,steps):\n",
        "  x,y=[],[]\n",
        "  for i in range(len(df)):\n",
        "    end=i+steps\n",
        "    if(end<len(df)):\n",
        "      seq_x=df[i:end]\n",
        "      seq_y=df[end]\n",
        "      x.append(seq_x)\n",
        "      y.append(seq_y)\n",
        "  return np.array(x),np.array(y)"
      ],
      "execution_count": 223,
      "outputs": []
    },
    {
      "cell_type": "code",
      "metadata": {
        "id": "aX5r2HRHwppN"
      },
      "source": [
        "x,y=data_preparation(df,time_steps)"
      ],
      "execution_count": 224,
      "outputs": []
    },
    {
      "cell_type": "code",
      "metadata": {
        "id": "fMAfd-7bx7RF",
        "outputId": "172e5385-d2e5-4e7e-a90e-3f38902a1eea",
        "colab": {
          "base_uri": "https://localhost:8080/"
        }
      },
      "source": [
        "x"
      ],
      "execution_count": 225,
      "outputs": [
        {
          "output_type": "execute_result",
          "data": {
            "text/plain": [
              "array([[ 72.5052,  70.672 ,  62.4502,  57.4714,  55.3151],\n",
              "       [ 70.672 ,  62.4502,  57.4714,  55.3151,  58.0904],\n",
              "       [ 62.4502,  57.4714,  55.3151,  58.0904,  62.6202],\n",
              "       ...,\n",
              "       [102.1532, 112.1538, 108.9312,  98.6154,  93.6137],\n",
              "       [112.1538, 108.9312,  98.6154,  93.6137,  97.3359],\n",
              "       [108.9312,  98.6154,  93.6137,  97.3359, 114.7212]])"
            ]
          },
          "metadata": {
            "tags": []
          },
          "execution_count": 225
        }
      ]
    },
    {
      "cell_type": "code",
      "metadata": {
        "id": "7oh6p4kT0eFc",
        "outputId": "332a29f8-249d-4fd1-92b5-217eb9475fe7",
        "colab": {
          "base_uri": "https://localhost:8080/"
        }
      },
      "source": [
        "y"
      ],
      "execution_count": 226,
      "outputs": [
        {
          "output_type": "execute_result",
          "data": {
            "text/plain": [
              "array([ 58.0904,  62.6202,  63.2485,  60.5846,  56.3154,  58.0005,\n",
              "        68.7145,  73.3057,  67.9869,  62.2221,  57.0329,  55.8137,\n",
              "        59.9005,  65.7655,  64.4816,  61.0005,  57.5322,  59.3417,\n",
              "        68.1354,  73.8152,  70.062 ,  65.61  ,  60.1586,  58.8734,\n",
              "        63.8918,  68.8694,  70.0669,  64.1151,  60.3789,  62.4643,\n",
              "        70.5777,  79.8703,  76.1622,  70.2928,  63.2384,  61.4065,\n",
              "        67.1097,  72.9816,  75.7655,  67.5152,  63.2832,  65.1078,\n",
              "        73.8631,  77.9188,  76.6822,  73.3523,  65.1081,  63.6892,\n",
              "        68.4722,  74.0301,  75.0448,  69.3053,  65.8735,  69.0706,\n",
              "        84.1949,  84.3598,  77.1726,  73.1964,  67.2781,  65.8218,\n",
              "        71.4654,  76.614 ,  77.1052,  73.061 ,  67.4365,  68.5665,\n",
              "        77.6839,  86.0214,  77.5573,  73.365 ,  67.15  ,  68.8162,\n",
              "        74.8448,  80.0928,  79.1606,  73.5743,  68.7538,  72.5166,\n",
              "        79.4894,  85.2855,  80.1643,  74.5275,  69.6441,  67.1784,\n",
              "        71.2078,  77.5081,  76.5374,  72.3541,  69.0286,  73.4992,\n",
              "        84.5159,  87.9464,  84.5561,  79.4747,  71.0578,  67.6762,\n",
              "        74.3297,  82.1048,  82.0605,  74.6031,  69.681 ,  74.4292,\n",
              "        84.2284,  94.1386,  87.1607,  79.2456,  70.9749,  69.3844,\n",
              "        77.9831,  83.277 ,  81.8872,  75.6826,  71.2661,  75.2458,\n",
              "        84.8147,  92.4532,  87.4033,  81.2661,  73.8167,  73.2682,\n",
              "        78.3026,  85.9841,  89.5467,  78.5035,  73.7066,  79.6543,\n",
              "        90.8251,  98.9732,  92.8883,  86.9356,  77.2214,  76.6826,\n",
              "        81.9306,  85.9606,  86.5562,  79.1919,  74.6891,  81.074 ,\n",
              "        90.4855,  98.4613,  89.7795,  83.0125,  76.1476,  73.8471,\n",
              "        79.7645,  88.4519,  87.7828,  81.9386,  77.5027,  82.0448,\n",
              "        92.101 ,  94.792 ,  87.82  ,  86.5549,  76.7521,  78.0303,\n",
              "        86.4579,  93.8379,  93.531 ,  87.5414,  80.0924,  81.4349,\n",
              "        91.6841, 102.1348,  91.1829,  90.7381,  80.5176,  79.3887,\n",
              "        87.8431,  97.4903,  96.4157,  87.2248,  80.6409,  82.2025,\n",
              "        94.5113, 102.2301,  94.2989,  88.0927,  81.4425,  84.4552,\n",
              "        91.0406,  95.9957,  99.3704,  90.9178,  83.1408,  88.041 ,\n",
              "       102.4558, 109.1081,  97.1717,  92.8283,  82.915 ,  82.5465,\n",
              "        90.3955,  96.074 ,  99.5534,  88.281 ,  82.686 ,  82.9319,\n",
              "        93.0381, 102.9955,  95.2075,  93.2556,  85.795 ,  85.2351,\n",
              "        93.1896, 102.393 , 101.6293,  93.3089,  86.9002,  88.5749,\n",
              "       100.8003, 110.1807, 103.8413,  94.5532,  85.062 ,  85.4653,\n",
              "        91.0761, 102.22  , 104.4682,  92.9135,  86.5047,  88.5735,\n",
              "       103.5428, 113.7226, 106.159 ,  95.4029,  86.7233,  89.0302,\n",
              "        95.5045, 101.7948, 100.2025,  94.024 ,  87.5262,  89.6144,\n",
              "       105.7263, 111.1614, 101.7795,  98.9565,  86.4776,  87.2234,\n",
              "        99.5076, 108.3501, 109.4862,  99.1155,  89.7567,  90.4587,\n",
              "       108.2257, 104.4724, 101.5196,  98.4017,  87.5093,  90.0222,\n",
              "       100.5244, 110.9503, 111.5192,  95.7632,  90.3738,  92.3566,\n",
              "       103.066 , 112.0576, 111.8399,  99.1925,  90.8177,  92.0587,\n",
              "       100.9676, 107.5686, 114.1036, 101.5316,  93.0068,  93.9126,\n",
              "       106.7528, 114.8331, 108.2353, 100.4386,  90.9944,  91.2348,\n",
              "       103.9581, 110.7631, 107.5665,  97.7183,  90.9979,  93.8057,\n",
              "       109.4221, 116.8316, 104.4202,  97.8529,  88.1973,  87.5366,\n",
              "        97.2387, 103.9086, 105.7486,  94.8823,  89.2977,  89.3585,\n",
              "       110.6844, 119.0166, 110.533 ,  98.2672,  86.3   ,  90.8364,\n",
              "       104.3538, 112.8066, 112.9014, 100.1209,  88.9251,  92.775 ,\n",
              "       114.3266, 119.488 , 107.3753,  99.1028,  89.3583,  90.0698,\n",
              "       102.8204, 114.7068, 113.5958,  99.4712,  90.3566,  93.8095,\n",
              "       107.3312, 111.9646, 103.3679,  93.5772,  87.5566,  92.7603,\n",
              "       101.14  , 113.0357, 109.8601,  96.7431,  90.3805,  94.3417,\n",
              "       105.2722, 115.501 , 106.734 , 102.9948,  91.0092,  90.9634,\n",
              "       100.6957, 110.148 , 108.1756,  99.2809,  91.7871,  97.2853,\n",
              "       113.4732, 124.2549, 112.8811, 104.7631,  90.2867,  92.134 ,\n",
              "       101.878 , 108.5497, 108.194 , 100.4172,  92.3837,  99.7033,\n",
              "       109.3477, 120.2696, 116.3788, 104.4706,  89.7461,  91.093 ,\n",
              "       102.6495, 111.6354, 110.5925, 101.9204,  91.5959,  93.0628,\n",
              "       103.2203, 117.0837, 106.6688,  95.3548,  89.3254,  90.7369,\n",
              "       104.0375, 114.5397, 115.5159, 102.7637,  91.4867,  92.89  ,\n",
              "       112.7694, 114.8505,  99.4901, 101.0396,  88.353 ,  92.0805,\n",
              "       102.1532, 112.1538, 108.9312,  98.6154,  93.6137,  97.3359,\n",
              "       114.7212, 129.4048])"
            ]
          },
          "metadata": {
            "tags": []
          },
          "execution_count": 226
        }
      ]
    },
    {
      "cell_type": "code",
      "metadata": {
        "id": "S6g12le81H_e",
        "outputId": "78b77ecc-6ab1-41a7-bffa-9a956fc49ff3",
        "colab": {
          "base_uri": "https://localhost:8080/"
        }
      },
      "source": [
        "x.shape"
      ],
      "execution_count": 227,
      "outputs": [
        {
          "output_type": "execute_result",
          "data": {
            "text/plain": [
              "(392, 5)"
            ]
          },
          "metadata": {
            "tags": []
          },
          "execution_count": 227
        }
      ]
    },
    {
      "cell_type": "code",
      "metadata": {
        "id": "n2RIep3a1MXa"
      },
      "source": [
        "# reshape from [samples, timesteps] into [samples, timesteps, features]\n",
        "\n",
        "n_features=1\n",
        "x=x.reshape(x.shape[0],x.shape[1],n_features)"
      ],
      "execution_count": 228,
      "outputs": []
    },
    {
      "cell_type": "code",
      "metadata": {
        "id": "7fjis1ay5VT5",
        "outputId": "472c7500-124b-475a-b5f8-27b3886ca96a",
        "colab": {
          "base_uri": "https://localhost:8080/"
        }
      },
      "source": [
        "x.shape"
      ],
      "execution_count": 229,
      "outputs": [
        {
          "output_type": "execute_result",
          "data": {
            "text/plain": [
              "(392, 5, 1)"
            ]
          },
          "metadata": {
            "tags": []
          },
          "execution_count": 229
        }
      ]
    },
    {
      "cell_type": "markdown",
      "metadata": {
        "id": "yOXPrBPb674c"
      },
      "source": [
        "**Building LSTM Model**"
      ]
    },
    {
      "cell_type": "code",
      "metadata": {
        "id": "L5gakqGq7IQ1"
      },
      "source": [
        "#Defining the model\n",
        "\n",
        "model=Sequential()\n",
        "model.add(LSTM(50,activation='relu',input_shape=(steps,n_features)))\n",
        "model.add(Dense(1))\n",
        "model.compile(optimizer='adam', loss='mse')"
      ],
      "execution_count": 230,
      "outputs": []
    },
    {
      "cell_type": "code",
      "metadata": {
        "id": "rzKuMPlw7NDA",
        "outputId": "aed5f648-fd38-4773-dd11-e4edba498a1d",
        "colab": {
          "base_uri": "https://localhost:8080/"
        }
      },
      "source": [
        "#Model Fitting\n",
        "\n",
        "model.fit(x,y,epochs=300,verbose=0)"
      ],
      "execution_count": 231,
      "outputs": [
        {
          "output_type": "stream",
          "text": [
            "WARNING:tensorflow:Model was constructed with shape (None, 3, 1) for input Tensor(\"lstm_8_input:0\", shape=(None, 3, 1), dtype=float32), but it was called on an input with incompatible shape (None, 5, 1).\n",
            "WARNING:tensorflow:Model was constructed with shape (None, 3, 1) for input Tensor(\"lstm_8_input:0\", shape=(None, 3, 1), dtype=float32), but it was called on an input with incompatible shape (None, 5, 1).\n"
          ],
          "name": "stdout"
        },
        {
          "output_type": "execute_result",
          "data": {
            "text/plain": [
              "<tensorflow.python.keras.callbacks.History at 0x7f8bfb40b4e0>"
            ]
          },
          "metadata": {
            "tags": []
          },
          "execution_count": 231
        }
      ]
    },
    {
      "cell_type": "code",
      "metadata": {
        "id": "ZxlVrIcUDQNW"
      },
      "source": [
        "#Function for predicting the output\n",
        "\n",
        "def predict(df,steps,n_features,no_of_predictions):\n",
        "  temp_input=list(df)\n",
        "  output=[]\n",
        "  n=len(df)-steps\n",
        "  i=0\n",
        "  for i in range(no_of_predictions):\n",
        "    input=np.array(temp_input[n:])\n",
        "    input=np.array(input)\n",
        "    input=input.reshape(1,steps,n_features)\n",
        "    yhat=model.predict(input,verbose=0)\n",
        "    output.append(yhat[0][0])\n",
        "    temp_input.append(yhat[0][0])\n",
        "    n=n+1\n",
        "  return output"
      ],
      "execution_count": 232,
      "outputs": []
    },
    {
      "cell_type": "code",
      "metadata": {
        "id": "ZE1m9fCqFKul",
        "outputId": "b36d08b8-5d0f-49cd-c021-b8a21165cc4b",
        "colab": {
          "base_uri": "https://localhost:8080/"
        }
      },
      "source": [
        "no_of_predictions=50\n",
        "result=predict(df,5,1,no_of_predictions)"
      ],
      "execution_count": 233,
      "outputs": [
        {
          "output_type": "stream",
          "text": [
            "WARNING:tensorflow:Model was constructed with shape (None, 3, 1) for input Tensor(\"lstm_8_input:0\", shape=(None, 3, 1), dtype=float32), but it was called on an input with incompatible shape (None, 5, 1).\n"
          ],
          "name": "stdout"
        }
      ]
    },
    {
      "cell_type": "code",
      "metadata": {
        "id": "QOcIHlAOLqXF",
        "outputId": "5ed30f3e-dc90-48de-dffa-3375fe15c9d2",
        "colab": {
          "base_uri": "https://localhost:8080/"
        }
      },
      "source": [
        "result"
      ],
      "execution_count": 234,
      "outputs": [
        {
          "output_type": "execute_result",
          "data": {
            "text/plain": [
              "[114.62442,\n",
              " 106.947815,\n",
              " 94.87273,\n",
              " 94.81584,\n",
              " 109.64005,\n",
              " 119.41577,\n",
              " 115.13508,\n",
              " 105.613014,\n",
              " 95.91761,\n",
              " 98.436424,\n",
              " 114.04206,\n",
              " 123.06335,\n",
              " 114.56082,\n",
              " 106.32805,\n",
              " 96.261154,\n",
              " 98.51481,\n",
              " 113.07392,\n",
              " 122.88122,\n",
              " 115.82162,\n",
              " 106.66785,\n",
              " 97.12699,\n",
              " 99.58994,\n",
              " 114.56569,\n",
              " 124.169876,\n",
              " 116.1106,\n",
              " 107.361664,\n",
              " 97.535255,\n",
              " 99.96121,\n",
              " 114.840385,\n",
              " 124.62354,\n",
              " 116.84687,\n",
              " 107.831436,\n",
              " 98.04504,\n",
              " 100.5593,\n",
              " 115.61148,\n",
              " 125.34851,\n",
              " 117.25798,\n",
              " 108.3116,\n",
              " 98.41095,\n",
              " 100.949905,\n",
              " 116.03274,\n",
              " 125.82663,\n",
              " 117.7317,\n",
              " 108.69725,\n",
              " 98.76802,\n",
              " 101.35449,\n",
              " 116.52102,\n",
              " 126.31641,\n",
              " 118.087036,\n",
              " 109.04821]"
            ]
          },
          "metadata": {
            "tags": []
          },
          "execution_count": 234
        }
      ]
    },
    {
      "cell_type": "code",
      "metadata": {
        "id": "1nUnY0kOFS1y"
      },
      "source": [
        "#plotting the output using matplotlib"
      ],
      "execution_count": 235,
      "outputs": []
    },
    {
      "cell_type": "code",
      "metadata": {
        "id": "ahLbieEjLxGg",
        "outputId": "85bad49c-65cb-4d6e-da1b-3516e00992d5",
        "colab": {
          "base_uri": "https://localhost:8080/",
          "height": 282
        }
      },
      "source": [
        "old=np.arange(len(df))\n",
        "new=np.arange(len(df),no_of_predictions+len(df))\n",
        "\n",
        "plt.plot(old,df)\n",
        "plt.plot(new,result)"
      ],
      "execution_count": 236,
      "outputs": [
        {
          "output_type": "execute_result",
          "data": {
            "text/plain": [
              "[<matplotlib.lines.Line2D at 0x7f8bf975e208>]"
            ]
          },
          "metadata": {
            "tags": []
          },
          "execution_count": 236
        },
        {
          "output_type": "display_data",
          "data": {
            "image/png": "[encoded data removed]",
            "text/plain": [
              "<Figure size 432x288 with 1 Axes>"
            ]
          },
          "metadata": {
            "tags": [],
            "needs_background": "light"
          }
        }
      ]
    },
    {
      "cell_type": "code",
      "metadata": {
        "id": "zWmS1K0AS4gg"
      },
      "source": [
        ""
      ],
      "execution_count": 236,
      "outputs": []
    }
  ]
}